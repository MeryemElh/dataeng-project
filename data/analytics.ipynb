{
 "cells": [
  {
   "cell_type": "code",
   "execution_count": 1,
   "metadata": {},
   "outputs": [],
   "source": [
    "from py2neo import Graph\n",
    "from neo4j import GraphDatabase\n",
    "import networkx as nx\n",
    "import matplotlib.pyplot as plt\n",
    "import neo4jupyter\n",
    "\n",
    "neo_host = \"neo4j\"\n",
    "neo_port = 7687\n",
    "\n",
    "graph = Graph(f\"bolt://{neo_host}:{neo_port}\")\n",
    "driver = GraphDatabase.driver(f\"bolt://{neo_host}:{neo_port}\")"
   ]
  },
  {
   "cell_type": "code",
   "execution_count": null,
   "metadata": {},
   "outputs": [],
   "source": [
    "NB_SELECTED = 4\n",
    "\n",
    "graph.run(\"\"\"MATCH ()-[r:Dissed]->(target)\n",
    "                RETURN target, count(r) AS num\n",
    "                ORDER BY num DESC\n",
    "                LIMIT $nb_selected\n",
    "            \"\"\", parameters={\"nb_selected\": NB_SELECTED}).to_data_frame()[['target']]"
   ]
  },
  {
   "cell_type": "code",
   "execution_count": null,
   "metadata": {},
   "outputs": [],
   "source": [
    "NB_SELECTED = 4\n",
    "\n",
    "graph.run(\"\"\"MATCH (artist)-[r:Dissed]->()\n",
    "                RETURN artist, count(r) AS num\n",
    "                ORDER BY num DESC\n",
    "                LIMIT $nb_selected\n",
    "            \"\"\", parameters={\"nb_selected\": NB_SELECTED}).to_data_frame()[['artist']]"
   ]
  },
  {
   "cell_type": "code",
   "execution_count": null,
   "metadata": {},
   "outputs": [],
   "source": [
    "neo4jupyter.init_notebook_mode()\n",
    "neo4jupyter.draw(graph, options={\"Artist\": \"name\", \"Target\": \"name\"})\n",
    "#sub_g = graph.run(\"\"\"\n",
    "#    MATCH (artist)-[r:Dissed]->(target)\n",
    "#    RETURN *\"\"\").to_subgraph()\n",
    "#neo4jupyter.draw_subgraph(sub_g, options={\"artist\": \"wikidata_id\", \"target\": \"name\"})"
   ]
  },
  {
   "cell_type": "code",
   "execution_count": null,
   "metadata": {},
   "outputs": [],
   "source": [
    "%matplotlib inline\n",
    "\n",
    "results = driver.session().run(\"\"\"\n",
    "MATCH (n)-[r]->(c) RETURN *\n",
    "\"\"\")\n",
    "\n",
    "G = nx.MultiDiGraph()\n",
    "\n",
    "for node in results.graph()._nodes.values():\n",
    "    G.add_node(node.id, labels=node._labels, properties=node._properties)\n",
    "\n",
    "rels = list(results.graph()._relationships.values())\n",
    "for rel in rels:\n",
    "    G.add_edge(rel.start_node.id, rel.end_node.id, key=rel.id, type=rel.type, properties=rel._properties)\n",
    "\n",
    "nx.draw(G, node_size=10, arrowsize=2)\n",
    "plt.show()"
   ]
  }
 ],
 "metadata": {
  "kernelspec": {
   "display_name": "Python 3.10.8 64-bit (microsoft store)",
   "language": "python",
   "name": "python3"
  },
  "language_info": {
   "codemirror_mode": {
    "name": "ipython",
    "version": 3
   },
   "file_extension": ".py",
   "mimetype": "text/x-python",
   "name": "python",
   "nbconvert_exporter": "python",
   "pygments_lexer": "ipython3",
   "version": "3.10.8"
  },
  "orig_nbformat": 4,
  "vscode": {
   "interpreter": {
    "hash": "9803be3a0da014ffd7dc199ce9e9fa8c4d81aebe14cd8d9d781ddf436cdf03d4"
   }
  }
 },
 "nbformat": 4,
 "nbformat_minor": 2
}
