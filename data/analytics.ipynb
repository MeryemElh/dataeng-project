{
 "cells": [
  {
   "cell_type": "code",
   "execution_count": 14,
   "metadata": {},
   "outputs": [],
   "source": [
    "from py2neo import Graph\n",
    "from neo4j import GraphDatabase\n",
    "import networkx as nx\n",
    "import neo4jupyter\n",
    "\n",
    "neo_host = \"neo4j\"\n",
    "neo_port = 7687\n",
    "\n",
    "graph = Graph(f\"bolt://{neo_host}:{neo_port}\")"
   ]
  },
  {
   "cell_type": "code",
   "execution_count": 10,
   "metadata": {},
   "outputs": [
    {
     "data": {
      "text/html": [
       "<div>\n",
       "<style scoped>\n",
       "    .dataframe tbody tr th:only-of-type {\n",
       "        vertical-align: middle;\n",
       "    }\n",
       "\n",
       "    .dataframe tbody tr th {\n",
       "        vertical-align: top;\n",
       "    }\n",
       "\n",
       "    .dataframe thead th {\n",
       "        text-align: right;\n",
       "    }\n",
       "</style>\n",
       "<table border=\"1\" class=\"dataframe\">\n",
       "  <thead>\n",
       "    <tr style=\"text-align: right;\">\n",
       "      <th></th>\n",
       "      <th>target</th>\n",
       "    </tr>\n",
       "  </thead>\n",
       "  <tbody>\n",
       "    <tr>\n",
       "      <th>0</th>\n",
       "      <td>{'name': 'Jones Naser', 'wikidata_id': 59}</td>\n",
       "    </tr>\n",
       "    <tr>\n",
       "      <th>1</th>\n",
       "      <td>{'name': 'Graham Aubrey', 'wikidata_id': 102}</td>\n",
       "    </tr>\n",
       "    <tr>\n",
       "      <th>2</th>\n",
       "      <td>{'name': 'Mathers Bruce', 'wikidata_id': 98}</td>\n",
       "    </tr>\n",
       "    <tr>\n",
       "      <th>3</th>\n",
       "      <td>{'name': 'Hitler Adolf', 'wikidata_id': 22}</td>\n",
       "    </tr>\n",
       "  </tbody>\n",
       "</table>\n",
       "</div>"
      ],
      "text/plain": [
       "                                          target\n",
       "0     {'name': 'Jones Naser', 'wikidata_id': 59}\n",
       "1  {'name': 'Graham Aubrey', 'wikidata_id': 102}\n",
       "2   {'name': 'Mathers Bruce', 'wikidata_id': 98}\n",
       "3    {'name': 'Hitler Adolf', 'wikidata_id': 22}"
      ]
     },
     "execution_count": 10,
     "metadata": {},
     "output_type": "execute_result"
    }
   ],
   "source": [
    "NB_SELECTED = 4\n",
    "\n",
    "graph.run(\"\"\"MATCH ()-[r:Dissed]->(target)\n",
    "                RETURN target, count(r) AS num\n",
    "                ORDER BY num DESC\n",
    "                LIMIT $nb_selected\n",
    "            \"\"\", parameters={\"nb_selected\": NB_SELECTED}).to_data_frame()[['target']]"
   ]
  },
  {
   "cell_type": "code",
   "execution_count": 11,
   "metadata": {},
   "outputs": [
    {
     "data": {
      "text/html": [
       "<div>\n",
       "<style scoped>\n",
       "    .dataframe tbody tr th:only-of-type {\n",
       "        vertical-align: middle;\n",
       "    }\n",
       "\n",
       "    .dataframe tbody tr th {\n",
       "        vertical-align: top;\n",
       "    }\n",
       "\n",
       "    .dataframe thead th {\n",
       "        text-align: right;\n",
       "    }\n",
       "</style>\n",
       "<table border=\"1\" class=\"dataframe\">\n",
       "  <thead>\n",
       "    <tr style=\"text-align: right;\">\n",
       "      <th></th>\n",
       "      <th>artist</th>\n",
       "    </tr>\n",
       "  </thead>\n",
       "  <tbody>\n",
       "    <tr>\n",
       "      <th>0</th>\n",
       "      <td>{'name': 'Ice Cube', 'wikidata_id': 122}</td>\n",
       "    </tr>\n",
       "    <tr>\n",
       "      <th>1</th>\n",
       "      <td>{'name': 'Nick Cannon feat. Suge Knight, Hitma...</td>\n",
       "    </tr>\n",
       "    <tr>\n",
       "      <th>2</th>\n",
       "      <td>{'name': 'Nick Cannon feat. The Black Squad', ...</td>\n",
       "    </tr>\n",
       "    <tr>\n",
       "      <th>3</th>\n",
       "      <td>{'name': 'Bizarre', 'wikidata_id': 121}</td>\n",
       "    </tr>\n",
       "  </tbody>\n",
       "</table>\n",
       "</div>"
      ],
      "text/plain": [
       "                                              artist\n",
       "0           {'name': 'Ice Cube', 'wikidata_id': 122}\n",
       "1  {'name': 'Nick Cannon feat. Suge Knight, Hitma...\n",
       "2  {'name': 'Nick Cannon feat. The Black Squad', ...\n",
       "3            {'name': 'Bizarre', 'wikidata_id': 121}"
      ]
     },
     "execution_count": 11,
     "metadata": {},
     "output_type": "execute_result"
    }
   ],
   "source": [
    "NB_SELECTED = 4\n",
    "\n",
    "graph.run(\"\"\"MATCH (artist)-[r:Dissed]->()\n",
    "                RETURN artist, count(r) AS num\n",
    "                ORDER BY num DESC\n",
    "                LIMIT $nb_selected\n",
    "            \"\"\", parameters={\"nb_selected\": NB_SELECTED}).to_data_frame()[['artist']]"
   ]
  },
  {
   "cell_type": "code",
   "execution_count": 19,
   "metadata": {},
   "outputs": [
    {
     "data": {
      "application/javascript": "var link = document.createElement(\"link\");\n\tlink.ref = \"stylesheet\";\n\tlink.type = \"text/css\";\n\tlink.href = \"https://cdnjs.cloudflare.com/ajax/libs/vis/4.8.2/vis.css\";\n\tdocument.head.appendChild(link);\nrequire.config({     paths: {         vis: '//cdnjs.cloudflare.com/ajax/libs/vis/4.8.2/vis.min'     } }); require(['vis'], function(vis) {  window.vis = vis; }); ",
      "text/plain": [
       "<IPython.core.display.Javascript object>"
      ]
     },
     "metadata": {},
     "output_type": "display_data"
    },
    {
     "data": {
      "text/html": [
       "<div id=\"fb5b83ac-b9b9-4608-acb7-2740521eef28\" style=\"height: 400px;\"></div>\n",
       "\n",
       "<script type=\"text/javascript\">\n",
       "\n",
       "    var nodes = [{\"id\": 967, \"label\": \"Common\", \"group\": \"Artist\", \"title\": \"Node('Artist', name='Common', wikidata_id=208)\"}, {\"id\": 934, \"label\": \"Jackson O'Shea\", \"group\": \"Target\", \"title\": \"Node('Target', name=\\\"Jackson O'Shea\\\", wikidata_id=42)\"}, {\"id\": 886, \"label\": \"King Crimson\", \"group\": \"Artist\", \"title\": \"Node('Artist', name='King Crimson', wikidata_id=149)\"}, {\"id\": 887, \"label\": \"The Beatles\", \"group\": \"Target\", \"title\": \"Node('Target', name='The Beatles', wikidata_id=2)\"}, {\"id\": 1145, \"label\": \"Gaulden Kentrell\", \"group\": \"Target\", \"title\": \"Node('Target', name='Gaulden Kentrell', wikidata_id=106)\"}, {\"id\": 1101, \"label\": \"Williams Lamar\", \"group\": \"Target\", \"title\": \"Node('Target', name='Williams Lamar', wikidata_id=85)\"}, {\"id\": 1225, \"label\": \"nan\", \"group\": \"Target\", \"title\": \"Node('Target', name='nan', wikidata_id=412)\"}, {\"id\": 1031, \"label\": \"50 Cent\", \"group\": \"Artist\", \"title\": \"Node('Artist', name='50 Cent', wikidata_id=259)\"}, {\"id\": 1032, \"label\": \"Taylor Terell\", \"group\": \"Target\", \"title\": \"Node('Target', name='Taylor Terell', wikidata_id=64)\"}, {\"id\": 1260, \"label\": \"\", \"group\": \"Artist\", \"title\": \"Node('Artist', name='', wikidata_id=447)\"}, {\"id\": 1261, \"label\": \"nan\", \"group\": \"Target\", \"title\": \"Node('Target', name='nan', wikidata_id=448)\"}, {\"id\": 1165, \"label\": \"Wroetoshaw\", \"group\": \"Target\", \"title\": \"Node('Target', name='Wroetoshaw', wikidata_id=358)\"}, {\"id\": 1063, \"label\": \"Lil' Kim\", \"group\": \"Artist\", \"title\": \"Node('Artist', name=\\\"Lil' Kim\\\", wikidata_id=285)\"}, {\"id\": 1064, \"label\": \"Maraj Tanya\", \"group\": \"Target\", \"title\": \"Node('Target', name='Maraj Tanya', wikidata_id=86)\"}, {\"id\": 1067, \"label\": \"Hopsin\", \"group\": \"Artist\", \"title\": \"Node('Artist', name='Hopsin', wikidata_id=288)\"}, {\"id\": 1068, \"label\": \"Okonma Gregory\", \"group\": \"Target\", \"title\": \"Node('Target', name='Okonma Gregory', wikidata_id=72)\"}, {\"id\": 1061, \"label\": \"Carey Mariah\", \"group\": \"Target\", \"title\": \"Node('Target', name='Carey Mariah', wikidata_id=69)\"}, {\"id\": 1026, \"label\": \"50 Cent\", \"group\": \"Artist\", \"title\": \"Node('Artist', name='50 Cent', wikidata_id=256)\"}, {\"id\": 969, \"label\": \"Jones Naser\", \"group\": \"Target\", \"title\": \"Node('Target', name='Jones Naser', wikidata_id=59)\"}, {\"id\": 1229, \"label\": \"nan\", \"group\": \"Target\", \"title\": \"Node('Target', name='nan', wikidata_id=416)\"}, {\"id\": 980, \"label\": \"Tupac Shakur\", \"group\": \"Artist\", \"title\": \"Node('Artist', name='Tupac Shakur', wikidata_id=219)\"}, {\"id\": 1011, \"label\": \"Spears Britney\", \"group\": \"Target\", \"title\": \"Node('Target', name='Spears Britney', wikidata_id=56)\"}, {\"id\": 1072, \"label\": \"Killer Mike\", \"group\": \"Artist\", \"title\": \"Node('Artist', name='Killer Mike', wikidata_id=291)\"}, {\"id\": 1073, \"label\": \"Reagan Ronald\", \"group\": \"Target\", \"title\": \"Node('Target', name='Reagan Ronald', wikidata_id=75)\"}, {\"id\": 878, \"label\": \"British Army\", \"group\": \"Artist\", \"title\": \"Node('Artist', name='British Army', wikidata_id=143)\"}, {\"id\": 879, \"label\": \"Hitler Adolf\", \"group\": \"Target\", \"title\": \"Node('Target', name='Hitler Adolf', wikidata_id=22)\"}, {\"id\": 1105, \"label\": \"Tempo\", \"group\": \"Artist\", \"title\": \"Node('Artist', name='Tempo', wikidata_id=312)\"}, {\"id\": 1106, \"label\": \"P\\u00e9rez Ren\\u00e9\", \"group\": \"Target\", \"title\": \"Node('Target', name='P\\u00e9rez Ren\\u00e9', wikidata_id=90)\"}, {\"id\": 1014, \"label\": \"Lil' Kim\", \"group\": \"Artist\", \"title\": \"Node('Artist', name=\\\"Lil' Kim\\\", wikidata_id=247)\"}, {\"id\": 1015, \"label\": \"Cooper Jihan\", \"group\": \"Target\", \"title\": \"Node('Target', name='Cooper Jihan', wikidata_id=57)\"}, {\"id\": 971, \"label\": \"Cypress Hill's \\\"No Rest for the Wicked\\\"\", \"group\": \"Target\", \"title\": \"Node('Target', name='Cypress Hill\\\\'s \\\"No Rest for the Wicked\\\"', wikidata_id=211)\"}, {\"id\": 1123, \"label\": \"Woods Symere\", \"group\": \"Target\", \"title\": \"Node('Target', name='Woods Symere', wikidata_id=92)\"}, {\"id\": 885, \"label\": \"Oliver Wallace\", \"group\": \"Artist\", \"title\": \"Node('Artist', name='Oliver Wallace', wikidata_id=148)\"}, {\"id\": 1004, \"label\": \"Jay-Z\", \"group\": \"Artist\", \"title\": \"Node('Artist', name='Jay-Z', wikidata_id=238)\"}, {\"id\": 1075, \"label\": \"Jim\\u00e9nez Christian\", \"group\": \"Target\", \"title\": \"Node('Target', name='Jim\\u00e9nez Christian', wikidata_id=76)\"}, {\"id\": 1216, \"label\": \"\", \"group\": \"Artist\", \"title\": \"Node('Artist', name='', wikidata_id=403)\"}, {\"id\": 1217, \"label\": \"nan\", \"group\": \"Target\", \"title\": \"Node('Target', name='nan', wikidata_id=404)\"}, {\"id\": 1055, \"label\": \"Mariah Carey\", \"group\": \"Artist\", \"title\": \"Node('Artist', name='Mariah Carey', wikidata_id=279)\"}, {\"id\": 853, \"label\": \"Mathers Bruce\", \"group\": \"Target\", \"title\": \"Node('Target', name='Mathers Bruce', wikidata_id=98)\"}, {\"id\": 963, \"label\": \"Tha Dogg Pound\", \"group\": \"Target\", \"title\": \"Node('Target', name='Tha Dogg Pound', wikidata_id=8)\"}, {\"id\": 1237, \"label\": \"nan\", \"group\": \"Target\", \"title\": \"Node('Target', name='nan', wikidata_id=424)\"}, {\"id\": 912, \"label\": \"Davis Doug\", \"group\": \"Target\", \"title\": \"Node('Target', name='Davis Doug', wikidata_id=27)\"}, {\"id\": 1085, \"label\": \"Perry Katy\", \"group\": \"Target\", \"title\": \"Node('Target', name='Perry Katy', wikidata_id=78)\"}, {\"id\": 1113, \"label\": \"Tempo\", \"group\": \"Artist\", \"title\": \"Node('Artist', name='Tempo', wikidata_id=318)\"}, {\"id\": 1181, \"label\": \"Quadeca\", \"group\": \"Artist\", \"title\": \"Node('Artist', name='Quadeca', wikidata_id=370)\"}, {\"id\": 1176, \"label\": \"Olatunji Olajide\", \"group\": \"Target\", \"title\": \"Node('Target', name='Olatunji Olajide', wikidata_id=118)\"}, {\"id\": 1160, \"label\": \"Jake Paul\", \"group\": \"Artist\", \"title\": \"Node('Artist', name='Jake Paul', wikidata_id=354)\"}, {\"id\": 1161, \"label\": \"The general press\", \"group\": \"Target\", \"title\": \"Node('Target', name='The general press', wikidata_id=355)\"}, {\"id\": 1207, \"label\": \"nan\", \"group\": \"Target\", \"title\": \"Node('Target', name='nan', wikidata_id=394)\"}, {\"id\": 1187, \"label\": \"Cocomelon\", \"group\": \"Target\", \"title\": \"Node('Target', name='Cocomelon', wikidata_id=376)\"}, {\"id\": 1199, \"label\": \"nan\", \"group\": \"Target\", \"title\": \"Node('Target', name='nan', wikidata_id=386)\"}, {\"id\": 1095, \"label\": \"Tyson Neil\", \"group\": \"Target\", \"title\": \"Node('Target', name='Tyson Neil', wikidata_id=82)\"}, {\"id\": 1174, \"label\": \"KSI\", \"group\": \"Artist\", \"title\": \"Node('Artist', name='KSI', wikidata_id=365)\"}, {\"id\": 1156, \"label\": \"Paul Logan\", \"group\": \"Target\", \"title\": \"Node('Target', name='Paul Logan', wikidata_id=115)\"}, {\"id\": 958, \"label\": \"Sneddon Thomas\", \"group\": \"Target\", \"title\": \"Node('Target', name='Sneddon Thomas', wikidata_id=37)\"}, {\"id\": 1246, \"label\": \"\", \"group\": \"Artist\", \"title\": \"Node('Artist', name='', wikidata_id=433)\"}, {\"id\": 1247, \"label\": \"nan\", \"group\": \"Target\", \"title\": \"Node('Target', name='nan', wikidata_id=434)\"}, {\"id\": 1022, \"label\": \"T.I.\", \"group\": \"Artist\", \"title\": \"Node('Artist', name='T.I.', wikidata_id=253)\"}, {\"id\": 1023, \"label\": \"Lil' Flip\", \"group\": \"Target\", \"title\": \"Node('Target', name=\\\"Lil' Flip\\\", wikidata_id=254)\"}, {\"id\": 1139, \"label\": \"Kanye West feat. Andr\\u00e9 3000\", \"group\": \"Artist\", \"title\": \"Node('Artist', name='Kanye West feat. Andr\\u00e9 3000', wikidata_id=338)\"}, {\"id\": 1091, \"label\": \"Graham Aubrey\", \"group\": \"Target\", \"title\": \"Node('Target', name='Graham Aubrey', wikidata_id=102)\"}, {\"id\": 1036, \"label\": \"\", \"group\": \"Artist\", \"title\": \"Node('Artist', name='', wikidata_id=262)\"}, {\"id\": 1037, \"label\": \"\", \"group\": \"Target\", \"title\": \"Node('Target', name='', wikidata_id=263)\"}, {\"id\": 891, \"label\": \"British Army\", \"group\": \"Target\", \"title\": \"Node('Target', name='British Army', wikidata_id=153)\"}, {\"id\": 993, \"label\": \"Outlawz\", \"group\": \"Artist\", \"title\": \"Node('Artist', name='Outlawz', wikidata_id=229)\"}, {\"id\": 994, \"label\": \"Clinton Bill\", \"group\": \"Target\", \"title\": \"Node('Target', name='Clinton Bill', wikidata_id=51)\"}, {\"id\": 898, \"label\": \"Beatty Henry\", \"group\": \"Target\", \"title\": \"Node('Target', name='Beatty Henry', wikidata_id=23)\"}, {\"id\": 1198, \"label\": \"\", \"group\": \"Artist\", \"title\": \"Node('Artist', name='', wikidata_id=385)\"}, {\"id\": 925, \"label\": \"Megadeth\", \"group\": \"Artist\", \"title\": \"Node('Artist', name='Megadeth', wikidata_id=179)\"}, {\"id\": 926, \"label\": \"Poland Chris\", \"group\": \"Target\", \"title\": \"Node('Target', name='Poland Chris', wikidata_id=29)\"}, {\"id\": 851, \"label\": \"Trump Donald\", \"group\": \"Target\", \"title\": \"Node('Target', name='Trump Donald', wikidata_id=12)\"}, {\"id\": 858, \"label\": \"black midi\", \"group\": \"Artist\", \"title\": \"Node('Artist', name='black midi', wikidata_id=128)\"}, {\"id\": 859, \"label\": \"Sheeran Christopher\", \"group\": \"Target\", \"title\": \"Node('Target', name='Sheeran Christopher', wikidata_id=14)\"}, {\"id\": 1254, \"label\": \"\", \"group\": \"Artist\", \"title\": \"Node('Artist', name='', wikidata_id=441)\"}, {\"id\": 1255, \"label\": \"nan\", \"group\": \"Target\", \"title\": \"Node('Target', name='nan', wikidata_id=442)\"}, {\"id\": 877, \"label\": \"Lorenzo Morales\", \"group\": \"Target\", \"title\": \"Node('Target', name='Lorenzo Morales', wikidata_id=142)\"}, {\"id\": 905, \"label\": \"Television and Tom Verlaine\", \"group\": \"Artist\", \"title\": \"Node('Artist', name='Television and Tom Verlaine', wikidata_id=164)\"}, {\"id\": 906, \"label\": \"Television refusing to allow the Damned to play a show with them.\", \"group\": \"Target\", \"title\": \"Node('Target', name='Television refusing to allow the Damned to play a show with them.', wikidata_id=165)\"}, {\"id\": 1183, \"label\": \"T-Series\", \"group\": \"Target\", \"title\": \"Node('Target', name='T-Series', wikidata_id=372)\"}, {\"id\": 1202, \"label\": \"\", \"group\": \"Artist\", \"title\": \"Node('Artist', name='', wikidata_id=389)\"}, {\"id\": 1203, \"label\": \"nan\", \"group\": \"Target\", \"title\": \"Node('Target', name='nan', wikidata_id=390)\"}, {\"id\": 954, \"label\": \"Broadus Cordozar\", \"group\": \"Target\", \"title\": \"Node('Target', name='Broadus Cordozar', wikidata_id=36)\"}, {\"id\": 1266, \"label\": \"\", \"group\": \"Artist\", \"title\": \"Node('Artist', name='', wikidata_id=453)\"}, {\"id\": 1267, \"label\": \"nan\", \"group\": \"Target\", \"title\": \"Node('Target', name='nan', wikidata_id=454)\"}, {\"id\": 1094, \"label\": \"B.o.B\", \"group\": \"Artist\", \"title\": \"Node('Artist', name='B.o.B', wikidata_id=306)\"}, {\"id\": 1024, \"label\": \"The Game\", \"group\": \"Artist\", \"title\": \"Node('Artist', name='The Game', wikidata_id=255)\"}, {\"id\": 1025, \"label\": \"G-Unit\", \"group\": \"Target\", \"title\": \"Node('Target', name='G-Unit', wikidata_id=10)\"}, {\"id\": 1138, \"label\": \"Banks Merrick\", \"group\": \"Target\", \"title\": \"Node('Target', name='Banks Merrick', wikidata_id=107)\"}, {\"id\": 1163, \"label\": \"Payne Ethan\", \"group\": \"Target\", \"title\": \"Node('Target', name='Payne Ethan', wikidata_id=112)\"}, {\"id\": 1258, \"label\": \"\", \"group\": \"Artist\", \"title\": \"Node('Artist', name='', wikidata_id=445)\"}, {\"id\": 1259, \"label\": \"nan\", \"group\": \"Target\", \"title\": \"Node('Target', name='nan', wikidata_id=446)\"}, {\"id\": 1009, \"label\": \"\", \"group\": \"Target\", \"title\": \"Node('Target', name='', wikidata_id=243)\"}, {\"id\": 1270, \"label\": \"\", \"group\": \"Artist\", \"title\": \"Node('Artist', name='', wikidata_id=457)\"}, {\"id\": 1271, \"label\": \"nan\", \"group\": \"Target\", \"title\": \"Node('Target', name='nan', wikidata_id=458)\"}, {\"id\": 1226, \"label\": \"\", \"group\": \"Artist\", \"title\": \"Node('Artist', name='', wikidata_id=413)\"}, {\"id\": 1227, \"label\": \"nan\", \"group\": \"Target\", \"title\": \"Node('Target', name='nan', wikidata_id=414)\"}, {\"id\": 1263, \"label\": \"nan\", \"group\": \"Target\", \"title\": \"Node('Target', name='nan', wikidata_id=450)\"}, {\"id\": 1168, \"label\": \"KSI\", \"group\": \"Artist\", \"title\": \"Node('Artist', name='KSI', wikidata_id=361)\"}, {\"id\": 1169, \"label\": \"NetNobody (formerly SkyDoesMinecraft)\", \"group\": \"Target\", \"title\": \"Node('Target', name='NetNobody (formerly SkyDoesMinecraft)', wikidata_id=362)\"}, {\"id\": 1044, \"label\": \"Spider Loc, Tony Yayo, M.O.P., Young Buck\", \"group\": \"Artist\", \"title\": \"Node('Artist', name='Spider Loc, Tony Yayo, M.O.P., Young Buck', wikidata_id=270)\"}, {\"id\": 1045, \"label\": \"Williams Curtis\", \"group\": \"Target\", \"title\": \"Node('Target', name='Williams Curtis', wikidata_id=65)\"}, {\"id\": 1262, \"label\": \"\", \"group\": \"Artist\", \"title\": \"Node('Artist', name='', wikidata_id=449)\"}, {\"id\": 1119, \"label\": \"Rosalind Zeffertt\", \"group\": \"Target\", \"title\": \"Node('Target', name='Rosalind Zeffertt', wikidata_id=323)\"}, {\"id\": 1154, \"label\": \"Alissa Violet\", \"group\": \"Target\", \"title\": \"Node('Target', name='Alissa Violet', wikidata_id=350)\"}, {\"id\": 907, \"label\": \"Dead Kennedys\", \"group\": \"Artist\", \"title\": \"Node('Artist', name='Dead Kennedys', wikidata_id=166)\"}, {\"id\": 908, \"label\": \"Brown Jerry\", \"group\": \"Target\", \"title\": \"Node('Target', name='Brown Jerry', wikidata_id=26)\"}, {\"id\": 997, \"label\": \"Eminem\", \"group\": \"Artist\", \"title\": \"Node('Artist', name='Eminem', wikidata_id=232)\"}, {\"id\": 998, \"label\": \"Kim Mathers\", \"group\": \"Target\", \"title\": \"Node('Target', name='Kim Mathers', wikidata_id=233)\"}, {\"id\": 900, \"label\": \"Young Percival\", \"group\": \"Target\", \"title\": \"Node('Target', name='Young Percival', wikidata_id=24)\"}, {\"id\": 1098, \"label\": \"Little Mix\", \"group\": \"Artist\", \"title\": \"Node('Artist', name='Little Mix', wikidata_id=308)\"}, {\"id\": 1099, \"label\": \"Malik Javad\", \"group\": \"Target\", \"title\": \"Node('Target', name='Malik Javad', wikidata_id=84)\"}, {\"id\": 1114, \"label\": \"Residente\", \"group\": \"Artist\", \"title\": \"Node('Artist', name='Residente', wikidata_id=319)\"}, {\"id\": 1115, \"label\": \"Tempo\", \"group\": \"Target\", \"title\": \"Node('Target', name='Tempo', wikidata_id=320)\"}, {\"id\": 902, \"label\": \"Norman Sheffield\", \"group\": \"Target\", \"title\": \"Node('Target', name='Norman Sheffield', wikidata_id=162)\"}, {\"id\": 1047, \"label\": \"\", \"group\": \"Target\", \"title\": \"Node('Target', name='', wikidata_id=272)\"}, {\"id\": 1149, \"label\": \"Lil Nas X feat. YoungBoy Never Broke Again\", \"group\": \"Artist\", \"title\": \"Node('Artist', name='Lil Nas X feat. YoungBoy Never Broke Again', wikidata_id=346)\"}, {\"id\": 1150, \"label\": \"Black Entertainment Television\", \"group\": \"Target\", \"title\": \"Node('Target', name='Black Entertainment Television', wikidata_id=347)\"}, {\"id\": 1173, \"label\": \"Washburn Ian\", \"group\": \"Target\", \"title\": \"Node('Target', name='Washburn Ian', wikidata_id=114)\"}, {\"id\": 1006, \"label\": \"Eminem\", \"group\": \"Artist\", \"title\": \"Node('Artist', name='Eminem', wikidata_id=240)\"}, {\"id\": 1007, \"label\": \"Benzino\", \"group\": \"Target\", \"title\": \"Node('Target', name='Benzino', wikidata_id=241)\"}, {\"id\": 1146, \"label\": \"YoungBoy Never Broke Again\", \"group\": \"Artist\", \"title\": \"Node('Artist', name='YoungBoy Never Broke Again', wikidata_id=343)\"}, {\"id\": 1209, \"label\": \"nan\", \"group\": \"Target\", \"title\": \"Node('Target', name='nan', wikidata_id=396)\"}, {\"id\": 1107, \"label\": \"Tempo\", \"group\": \"Artist\", \"title\": \"Node('Artist', name='Tempo', wikidata_id=313)\"}, {\"id\": 1108, \"label\": \"\", \"group\": \"Target\", \"title\": \"Node('Target', name='', wikidata_id=314)\"}, {\"id\": 1021, \"label\": \"Canibus\", \"group\": \"Target\", \"title\": \"Node('Target', name='Canibus', wikidata_id=252)\"}, {\"id\": 881, \"label\": \"The Murphy Sisters\", \"group\": \"Artist\", \"title\": \"Node('Artist', name='The Murphy Sisters', wikidata_id=145)\"}, {\"id\": 882, \"label\": \"Hirohito\", \"group\": \"Target\", \"title\": \"Node('Target', name='Hirohito', wikidata_id=146)\"}, {\"id\": 943, \"label\": \"Phish\", \"group\": \"Artist\", \"title\": \"Node('Artist', name='Phish', wikidata_id=190)\"}, {\"id\": 944, \"label\": \"Windham Hill Records\", \"group\": \"Target\", \"title\": \"Node('Target', name='Windham Hill Records', wikidata_id=191)\"}, {\"id\": 1043, \"label\": \"50 Cent's \\\"Piggy Bank\\\"\", \"group\": \"Target\", \"title\": \"Node('Target', name='50 Cent\\\\'s \\\"Piggy Bank\\\"', wikidata_id=269)\"}, {\"id\": 924, \"label\": \"Smith James Todd\", \"group\": \"Target\", \"title\": \"Node('Target', name='Smith James Todd', wikidata_id=45)\"}, {\"id\": 1195, \"label\": \"nan\", \"group\": \"Target\", \"title\": \"Node('Target', name='nan', wikidata_id=382)\"}, {\"id\": 1157, \"label\": \"Logan Paul feat. Why Don't We\", \"group\": \"Artist\", \"title\": \"Node('Artist', name=\\\"Logan Paul feat. Why Don't We\\\", wikidata_id=352)\"}, {\"id\": 1158, \"label\": \"Paul Jacob\", \"group\": \"Target\", \"title\": \"Node('Target', name='Paul Jacob', wikidata_id=111)\"}, {\"id\": 1002, \"label\": \"Nas\", \"group\": \"Artist\", \"title\": \"Node('Artist', name='Nas', wikidata_id=237)\"}, {\"id\": 1003, \"label\": \"Carter Corey\", \"group\": \"Target\", \"title\": \"Node('Target', name='Carter Corey', wikidata_id=53)\"}, {\"id\": 1230, \"label\": \"\", \"group\": \"Artist\", \"title\": \"Node('Artist', name='', wikidata_id=417)\"}, {\"id\": 1231, \"label\": \"nan\", \"group\": \"Target\", \"title\": \"Node('Target', name='nan', wikidata_id=418)\"}, {\"id\": 916, \"label\": \"NME journalists Mat Snow and Antonella Black\", \"group\": \"Target\", \"title\": \"Node('Target', name='NME journalists Mat Snow and Antonella Black', wikidata_id=172)\"}, {\"id\": 937, \"label\": \"Jermaine Jackson\", \"group\": \"Artist\", \"title\": \"Node('Artist', name='Jermaine Jackson', wikidata_id=187)\"}, {\"id\": 938, \"label\": \"Jackson Michael\", \"group\": \"Target\", \"title\": \"Node('Target', name='Jackson Michael', wikidata_id=33)\"}, {\"id\": 1240, \"label\": \"\", \"group\": \"Artist\", \"title\": \"Node('Artist', name='', wikidata_id=427)\"}, {\"id\": 1241, \"label\": \"nan\", \"group\": \"Target\", \"title\": \"Node('Target', name='nan', wikidata_id=428)\"}, {\"id\": 874, \"label\": \"Joe Hill\", \"group\": \"Artist\", \"title\": \"Node('Artist', name='Joe Hill', wikidata_id=139)\"}, {\"id\": 875, \"label\": \"Salvation Army\", \"group\": \"Target\", \"title\": \"Node('Target', name='Salvation Army', wikidata_id=140)\"}];\n",
       "    var edges = [{\"from\": 967, \"to\": 934, \"label\": \"Dissed\"}, {\"from\": 886, \"to\": 887, \"label\": \"Dissed\"}, {\"from\": 1031, \"to\": 1032, \"label\": \"Dissed\"}, {\"from\": 1260, \"to\": 1261, \"label\": \"Dissed\"}, {\"from\": 1063, \"to\": 1064, \"label\": \"Dissed\"}, {\"from\": 1067, \"to\": 1068, \"label\": \"Dissed\"}, {\"from\": 1026, \"to\": 969, \"label\": \"Dissed\"}, {\"from\": 980, \"to\": 969, \"label\": \"Dissed\"}, {\"from\": 1072, \"to\": 1073, \"label\": \"Dissed\"}, {\"from\": 878, \"to\": 879, \"label\": \"Dissed\"}, {\"from\": 1105, \"to\": 1106, \"label\": \"Dissed\"}, {\"from\": 1014, \"to\": 1015, \"label\": \"Dissed\"}, {\"from\": 885, \"to\": 879, \"label\": \"Dissed\"}, {\"from\": 1004, \"to\": 969, \"label\": \"Dissed\"}, {\"from\": 1216, \"to\": 1217, \"label\": \"Dissed\"}, {\"from\": 1055, \"to\": 853, \"label\": \"Dissed\"}, {\"from\": 1113, \"to\": 1106, \"label\": \"Dissed\"}, {\"from\": 1181, \"to\": 1176, \"label\": \"Dissed\"}, {\"from\": 1160, \"to\": 1161, \"label\": \"Dissed\"}, {\"from\": 1174, \"to\": 1156, \"label\": \"Dissed\"}, {\"from\": 1246, \"to\": 1247, \"label\": \"Dissed\"}, {\"from\": 1022, \"to\": 1023, \"label\": \"Dissed\"}, {\"from\": 1139, \"to\": 1091, \"label\": \"Dissed\"}, {\"from\": 1036, \"to\": 1037, \"label\": \"Dissed\"}, {\"from\": 993, \"to\": 994, \"label\": \"Dissed\"}, {\"from\": 1198, \"to\": 1199, \"label\": \"Dissed\"}, {\"from\": 925, \"to\": 926, \"label\": \"Dissed\"}, {\"from\": 858, \"to\": 859, \"label\": \"Dissed\"}, {\"from\": 1254, \"to\": 1255, \"label\": \"Dissed\"}, {\"from\": 905, \"to\": 906, \"label\": \"Dissed\"}, {\"from\": 1202, \"to\": 1203, \"label\": \"Dissed\"}, {\"from\": 1266, \"to\": 1267, \"label\": \"Dissed\"}, {\"from\": 1094, \"to\": 1095, \"label\": \"Dissed\"}, {\"from\": 1024, \"to\": 1025, \"label\": \"Dissed\"}, {\"from\": 1258, \"to\": 1259, \"label\": \"Dissed\"}, {\"from\": 1270, \"to\": 1271, \"label\": \"Dissed\"}, {\"from\": 1226, \"to\": 1227, \"label\": \"Dissed\"}, {\"from\": 1168, \"to\": 1169, \"label\": \"Dissed\"}, {\"from\": 1044, \"to\": 1045, \"label\": \"Dissed\"}, {\"from\": 1262, \"to\": 1263, \"label\": \"Dissed\"}, {\"from\": 907, \"to\": 908, \"label\": \"Dissed\"}, {\"from\": 997, \"to\": 998, \"label\": \"Dissed\"}, {\"from\": 1098, \"to\": 1099, \"label\": \"Dissed\"}, {\"from\": 1114, \"to\": 1115, \"label\": \"Dissed\"}, {\"from\": 1149, \"to\": 1150, \"label\": \"Dissed\"}, {\"from\": 1006, \"to\": 1007, \"label\": \"Dissed\"}, {\"from\": 1146, \"to\": 1138, \"label\": \"Dissed\"}, {\"from\": 1107, \"to\": 1108, \"label\": \"Dissed\"}, {\"from\": 881, \"to\": 882, \"label\": \"Dissed\"}, {\"from\": 943, \"to\": 944, \"label\": \"Dissed\"}, {\"from\": 1157, \"to\": 1158, \"label\": \"Dissed\"}, {\"from\": 1002, \"to\": 1003, \"label\": \"Dissed\"}, {\"from\": 1230, \"to\": 1231, \"label\": \"Dissed\"}, {\"from\": 937, \"to\": 938, \"label\": \"Dissed\"}, {\"from\": 1240, \"to\": 1241, \"label\": \"Dissed\"}, {\"from\": 874, \"to\": 875, \"label\": \"Dissed\"}];\n",
       "\n",
       "    var container = document.getElementById(\"fb5b83ac-b9b9-4608-acb7-2740521eef28\");\n",
       "\n",
       "    var data = {\n",
       "        nodes: nodes,\n",
       "        edges: edges\n",
       "    };\n",
       "\n",
       "    var options = {\n",
       "    nodes: {\n",
       "        shape: 'dot',\n",
       "        size: 25,\n",
       "        font: {\n",
       "            size: 14\n",
       "        }\n",
       "    },\n",
       "    edges: {\n",
       "        font: {\n",
       "            size: 14,\n",
       "            align: 'middle'\n",
       "        },\n",
       "        color: 'gray',\n",
       "        arrows: {\n",
       "            to: {\n",
       "                enabled: true,\n",
       "                scaleFactor: 0.5\n",
       "            }\n",
       "        },\n",
       "        smooth: {\n",
       "            enabled: false\n",
       "        }\n",
       "    },\n",
       "    physics: {\n",
       "        enabled: true\n",
       "        }\n",
       "    };\n",
       "\n",
       "    var network = new vis.Network(container, data, options);\n",
       "\n",
       "</script>\n"
      ],
      "text/plain": [
       "<IPython.core.display.HTML object>"
      ]
     },
     "execution_count": 19,
     "metadata": {},
     "output_type": "execute_result"
    }
   ],
   "source": [
    "neo4jupyter.init_notebook_mode()\n",
    "#sub_g = graph.run(\"\"\"\n",
    "#    MATCH (artist)-[r:Dissed]->(target)\n",
    "#    RETURN *\"\"\").to_subgraph()\n",
    "#neo4jupyter.draw_subgraph(sub_g, options={\"artist\": \"wikidata_id\", \"target\": \"name\"})\n",
    "neo4jupyter.draw(graph, options={\"Artist\": \"name\", \"Target\": \"name\"})"
   ]
  }
 ],
 "metadata": {
  "kernelspec": {
   "display_name": "Python 3.10.8 64-bit (microsoft store)",
   "language": "python",
   "name": "python3"
  },
  "language_info": {
   "codemirror_mode": {
    "name": "ipython",
    "version": 3
   },
   "file_extension": ".py",
   "mimetype": "text/x-python",
   "name": "python",
   "nbconvert_exporter": "python",
   "pygments_lexer": "ipython3",
   "version": "3.10.8"
  },
  "orig_nbformat": 4,
  "vscode": {
   "interpreter": {
    "hash": "9803be3a0da014ffd7dc199ce9e9fa8c4d81aebe14cd8d9d781ddf436cdf03d4"
   }
  }
 },
 "nbformat": 4,
 "nbformat_minor": 2
}
