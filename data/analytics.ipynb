{
 "cells": [
  {
   "cell_type": "markdown",
   "metadata": {},
   "source": [
    "# Cypher disstracks Analysis\n",
    "\n",
    "Until know, we used multiple tools to get/clean/persist our data. It's now time to analyze it and find the answers to our questions.\n",
    "The first step is to import our modules and load our graphs. There are two ways to get the graph because the networkx plot uses the neo4j GraphDatabase, but neo4jupyter uses the py2neo Graph and it's easier to use.\n",
    "\n",
    "NB: If you want to rerun it directly from here, assuming the docker-compose (and mor specifically the neo4j service) is running, change the host from \"neo4j\" to \"localhost\""
   ]
  },
  {
   "cell_type": "code",
   "execution_count": null,
   "metadata": {},
   "outputs": [],
   "source": [
    "from py2neo import Graph\n",
    "from neo4j import GraphDatabase\n",
    "import networkx as nx\n",
    "import matplotlib.pyplot as plt\n",
    "import neo4jupyter\n",
    "\n",
    "neo_host = \"neo4j\"\n",
    "neo_port = 7687\n",
    "\n",
    "graph = Graph(f\"bolt://{neo_host}:{neo_port}\")\n",
    "driver = GraphDatabase.driver(f\"bolt://{neo_host}:{neo_port}\")"
   ]
  },
  {
   "cell_type": "markdown",
   "metadata": {},
   "source": [
    "## Questions\n",
    "\n",
    "### Most dissed people\n",
    "\n",
    "Our first question was to find who had the more disstracks realeased against him. We'll plot a bar plot to visualize it:"
   ]
  },
  {
   "cell_type": "code",
   "execution_count": null,
   "metadata": {},
   "outputs": [],
   "source": [
    "NB_SELECTED = 10\n",
    "\n",
    "graph.run(\"\"\"MATCH ()-[r:Dissed]->(target)\n",
    "                RETURN target.name, count(r) AS num\n",
    "                ORDER BY num DESC\n",
    "                LIMIT $nb_selected\n",
    "            \"\"\", parameters={\"nb_selected\": NB_SELECTED}).to_data_frame().plot.bar(x='target.name', y='num')"
   ]
  },
  {
   "cell_type": "markdown",
   "metadata": {},
   "source": [
    "### Most actives dissors\n",
    "\n",
    "Our second question was to find who issued more disstracks. We'll once again plot a bar plot to visualize it:"
   ]
  },
  {
   "cell_type": "code",
   "execution_count": null,
   "metadata": {},
   "outputs": [],
   "source": [
    "NB_SELECTED = 10\n",
    "\n",
    "graph.run(\"\"\"MATCH (artist)-[r:Dissed]->()\n",
    "                RETURN artist.name, count(r) AS num\n",
    "                ORDER BY num DESC\n",
    "                LIMIT $nb_selected\n",
    "            \"\"\", parameters={\"nb_selected\": NB_SELECTED}).to_data_frame().plot.bar(x='artist.name', y='num')"
   ]
  },
  {
   "cell_type": "markdown",
   "metadata": {},
   "source": [
    "## Additionnal visualizations\n",
    "\n",
    "It's great to have our answers but we want to visualize our data directly. Here's a plot representing the disses between the artists.\n",
    "The plot just under is good looking and clear but may not render well on your machine. It's due to problems with the vis js lib as it wasn't meant to run from docker containers (that's what I understood from my research but it's just my conclusion as I didn't find any clear answer). There will be a second less good looking graph at the end to make up for it.\n",
    "\n",
    "NB: To visualize it, what works for me is to restart the kernel ans rerun the notebook (not forgetting to change the host from neo4j to localhost)"
   ]
  },
  {
   "cell_type": "code",
   "execution_count": null,
   "metadata": {},
   "outputs": [],
   "source": [
    "neo4jupyter.init_notebook_mode()\n",
    "neo4jupyter.draw(graph, options={\"Artist\": \"name\", \"Target\": \"name\"})\n",
    "\n",
    "# If you want to plot parts of the graph\n",
    "\n",
    "#sub_g = graph.run(\"\"\"\n",
    "#    MATCH (artist)-[r:Dissed]->(target)\n",
    "#    RETURN *\"\"\").to_subgraph()\n",
    "#neo4jupyter.draw_subgraph(sub_g, options={\"artist\": \"wikidata_id\", \"target\": \"name\"})"
   ]
  },
  {
   "cell_type": "markdown",
   "metadata": {},
   "source": [
    "Our last graph is that one. As you can see, it's not quite clean so it's only used as a substitute when the upper one can't be rendered."
   ]
  },
  {
   "cell_type": "code",
   "execution_count": null,
   "metadata": {},
   "outputs": [],
   "source": [
    "%matplotlib inline\n",
    "\n",
    "results = driver.session().run(\"\"\"\n",
    "MATCH (n)-[r]->(c) RETURN *\n",
    "\"\"\")\n",
    "\n",
    "G = nx.MultiDiGraph()\n",
    "\n",
    "for node in results.graph()._nodes.values():\n",
    "    G.add_node(node.id, labels=node._labels, properties=node._properties)\n",
    "\n",
    "rels = list(results.graph()._relationships.values())\n",
    "for rel in rels:\n",
    "    G.add_edge(rel.start_node.id, rel.end_node.id, key=rel.id, type=rel.type, properties=rel._properties)\n",
    "\n",
    "nx.draw(G, node_size=10, arrowsize=2)\n",
    "plt.show()"
   ]
  }
 ],
 "metadata": {
  "kernelspec": {
   "display_name": "Python 3.10.8 64-bit (microsoft store)",
   "language": "python",
   "name": "python3"
  },
  "language_info": {
   "codemirror_mode": {
    "name": "ipython",
    "version": 3
   },
   "file_extension": ".py",
   "mimetype": "text/x-python",
   "name": "python",
   "nbconvert_exporter": "python",
   "pygments_lexer": "ipython3",
   "version": "3.10.8"
  },
  "orig_nbformat": 4,
  "vscode": {
   "interpreter": {
    "hash": "9803be3a0da014ffd7dc199ce9e9fa8c4d81aebe14cd8d9d781ddf436cdf03d4"
   }
  }
 },
 "nbformat": 4,
 "nbformat_minor": 2
}
