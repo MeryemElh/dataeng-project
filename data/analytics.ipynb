{
 "cells": [
  {
   "cell_type": "code",
   "execution_count": null,
   "metadata": {},
   "outputs": [],
   "source": [
    "from py2neo import Graph\n",
    "\n",
    "neo_host = \"neo4j\"\n",
    "neo_port = 7687\n",
    "\n",
    "graph = Graph(f\"bolt://{neo_host}:{neo_port}\")"
   ]
  },
  {
   "cell_type": "code",
   "execution_count": null,
   "metadata": {},
   "outputs": [],
   "source": [
    "cursor = graph.run(\"\"\"MATCH ()-[r:Dissed]->(target)\n",
    "                        RETURN target, count(r) AS num\n",
    "                        ORDER BY num DESC\n",
    "                    \"\"\")\n",
    "\n",
    "nb_targets = 3\n",
    "most_dissed_targets = []\n",
    "for i in range(nb_targets):\n",
    "    if cursor.forward():\n",
    "        most_dissed_targets.append(cursor.current['target']['name'])\n",
    "\n",
    "most_dissed_targets"
   ]
  },
  {
   "cell_type": "code",
   "execution_count": null,
   "metadata": {},
   "outputs": [],
   "source": [
    "cursor = graph.run(\"\"\"MATCH (artist)-[r:Dissed]->()\n",
    "                        RETURN artist, count(r) AS num\n",
    "                        ORDER BY num DESC\n",
    "                    \"\"\")\n",
    "\n",
    "nb_targets = 3\n",
    "most_dissors_artists = []\n",
    "for i in range(nb_targets):\n",
    "    if cursor.forward():\n",
    "        most_dissors_artists.append(cursor.current['artist']['name'])\n",
    "\n",
    "most_dissors_artists"
   ]
  }
 ],
 "metadata": {
  "kernelspec": {
   "display_name": "Python 3.10.8 64-bit (microsoft store)",
   "language": "python",
   "name": "python3"
  },
  "language_info": {
   "codemirror_mode": {
    "name": "ipython",
    "version": 3
   },
   "file_extension": ".py",
   "mimetype": "text/x-python",
   "name": "python",
   "nbconvert_exporter": "python",
   "pygments_lexer": "ipython3",
   "version": "3.10.8"
  },
  "orig_nbformat": 4,
  "vscode": {
   "interpreter": {
    "hash": "9803be3a0da014ffd7dc199ce9e9fa8c4d81aebe14cd8d9d781ddf436cdf03d4"
   }
  }
 },
 "nbformat": 4,
 "nbformat_minor": 2
}
